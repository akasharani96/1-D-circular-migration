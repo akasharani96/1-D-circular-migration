{
 "cells": [
  {
   "cell_type": "code",
   "execution_count": 1,
   "metadata": {},
   "outputs": [],
   "source": [
    "import msprime\n",
    "import tskit\n",
    "import numpy as np\n",
    "import matplotlib.pyplot as plt"
   ]
  },
  {
   "cell_type": "code",
   "execution_count": 29,
   "metadata": {},
   "outputs": [
    {
     "name": "stdout",
     "output_type": "stream",
     "text": [
      "                                                                                                             118                                                         \n",
      "                                                                        ┏━━━━━━━━━━━━━━━━━━━━━━━━━━━━━━━━━━━━━┻━━━━━━━━━━━━━━━━━━━━━━━━━━━━━━━━━━━━━┓                    \n",
      "                                                                       117                                                                          ┃                    \n",
      "                                          ┏━━━━━━━━━━━━━━━━━━━━━━━━━━━━━┻━━━━━━━━━━━━━━━━━━━━━━━━━━━━┓                                              ┃                    \n",
      "                                         116                                                         ┃                                              ┃                    \n",
      "                              ┏━━━━━━━━━━━┻━━━━━━━━━━━┓                                              ┃                                              ┃                    \n",
      "                              ┃                       ┃                                             115                                             ┃                    \n",
      "                              ┃                       ┃                                   ┏━━━━━━━━━━┻━━━━━━━━━━┓                                   ┃                    \n",
      "                              ┃                       ┃                                   ┃                     ┃                                  114                   \n",
      "                              ┃                       ┃                                   ┃                     ┃                       ┏━━━━━━━━━━━┻━━━━━━━━━━━━┓       \n",
      "                              ┃                       ┃                                  113                    ┃                       ┃                        ┃       \n",
      "                              ┃                       ┃                  ┏━━━━━━━━━━━━━━━━┻━━━━━━━━━━━━━━━┓     ┃                       ┃                        ┃       \n",
      "                              ┃                       ┃                  ┃                                ┃     ┃                      112                       ┃       \n",
      "                              ┃                       ┃                  ┃                                ┃     ┃             ┏━━━━━━━━━┻━━━━━━━━━━┓             ┃       \n",
      "                             111                      ┃                  ┃                                ┃     ┃             ┃                    ┃             ┃       \n",
      "                ┏━━━━━━━━━━━━━┻━━━━━━━━━━━━━┓         ┃                  ┃                                ┃     ┃             ┃                    ┃             ┃       \n",
      "                ┃                           ┃         ┃                 110                               ┃     ┃             ┃                    ┃             ┃       \n",
      "                ┃                           ┃         ┃  ┏━━━━━━━━━━━━━━━┻━━━━━━━━━━━━━━━┓                ┃     ┃             ┃                    ┃             ┃       \n",
      "               109                          ┃         ┃  ┃                               ┃                ┃     ┃             ┃                    ┃             ┃       \n",
      "       ┏━━━━━━━━┻━━━━━━━┓                   ┃         ┃  ┃                               ┃                ┃     ┃             ┃                    ┃             ┃       \n",
      "       ┃                ┃                   ┃         ┃  ┃                               ┃                ┃     ┃             ┃                   108            ┃       \n",
      "       ┃                ┃                   ┃         ┃  ┃                               ┃                ┃     ┃             ┃                 ┏━━┻━━┓          ┃       \n",
      "       ┃                ┃                   ┃         ┃  ┃                               ┃               107    ┃             ┃                 ┃     ┃          ┃       \n",
      "       ┃                ┃                   ┃         ┃  ┃                               ┃               ┏┻━┓   ┃             ┃                 ┃     ┃          ┃       \n",
      "       ┃                ┃                   ┃         ┃  ┃                              106              ┃  ┃   ┃             ┃                 ┃     ┃          ┃       \n",
      "       ┃                ┃                   ┃         ┃  ┃                    ┏━━━━━━━━━━┻━━━━━━━━━━┓    ┃  ┃   ┃             ┃                 ┃     ┃          ┃       \n",
      "       ┃                ┃                  105        ┃  ┃                    ┃                     ┃    ┃  ┃   ┃             ┃                 ┃     ┃          ┃       \n",
      "       ┃                ┃               ┏━━━┻━━━┓     ┃  ┃                    ┃                     ┃    ┃  ┃   ┃             ┃                 ┃     ┃          ┃       \n",
      "       ┃                ┃               ┃       ┃     ┃  ┃                    ┃                     ┃    ┃  ┃   ┃             ┃                 ┃     ┃         104      \n",
      "       ┃                ┃               ┃       ┃     ┃  ┃                    ┃                     ┃    ┃  ┃   ┃             ┃                 ┃     ┃     ┏━━━━┻━━━━┓  \n",
      "       ┃                ┃               ┃       ┃     ┃  ┃                    ┃                     ┃    ┃  ┃   ┃             ┃                103    ┃     ┃         ┃  \n",
      "       ┃                ┃               ┃       ┃     ┃  ┃                    ┃                     ┃    ┃  ┃   ┃             ┃               ┏━┻━━┓  ┃     ┃         ┃  \n",
      "      102               ┃               ┃       ┃     ┃  ┃                    ┃                     ┃    ┃  ┃   ┃             ┃               ┃    ┃  ┃     ┃         ┃  \n",
      "    ┏━━┻━━┓             ┃               ┃       ┃     ┃  ┃                    ┃                     ┃    ┃  ┃   ┃             ┃               ┃    ┃  ┃     ┃         ┃  \n",
      "    ┃     ┃             ┃              101      ┃     ┃  ┃                    ┃                     ┃    ┃  ┃   ┃             ┃               ┃    ┃  ┃     ┃         ┃  \n",
      "    ┃     ┃             ┃             ┏━┻━┓     ┃     ┃  ┃                    ┃                     ┃    ┃  ┃   ┃             ┃               ┃    ┃  ┃     ┃         ┃  \n",
      "    ┃     ┃             ┃             ┃   ┃     ┃     ┃  ┃                    ┃                     ┃    ┃  ┃   ┃             ┃              100   ┃  ┃     ┃         ┃  \n",
      "    ┃     ┃             ┃             ┃   ┃     ┃     ┃  ┃                    ┃                     ┃    ┃  ┃   ┃             ┃             ┏━┻━━┓ ┃  ┃     ┃         ┃  \n",
      "    ┃     ┃            99             ┃   ┃     ┃     ┃  ┃                    ┃                     ┃    ┃  ┃   ┃             ┃             ┃    ┃ ┃  ┃     ┃         ┃  \n",
      "    ┃     ┃     ┏━━━━━━━┻━━━━━━┓      ┃   ┃     ┃     ┃  ┃                    ┃                     ┃    ┃  ┃   ┃             ┃             ┃    ┃ ┃  ┃     ┃         ┃  \n",
      "    ┃     ┃     ┃              ┃     98   ┃     ┃     ┃  ┃                    ┃                     ┃    ┃  ┃   ┃             ┃             ┃    ┃ ┃  ┃     ┃         ┃  \n",
      "    ┃     ┃     ┃              ┃    ┏━┻┓  ┃     ┃     ┃  ┃                    ┃                     ┃    ┃  ┃   ┃             ┃             ┃    ┃ ┃  ┃     ┃         ┃  \n",
      "    ┃     ┃     ┃              ┃    ┃  ┃  ┃     ┃     ┃  ┃                   97                     ┃    ┃  ┃   ┃             ┃             ┃    ┃ ┃  ┃     ┃         ┃  \n",
      "    ┃     ┃     ┃              ┃    ┃  ┃  ┃     ┃     ┃  ┃         ┏━━━━━━━━━━┻━━━━━━━━━━━┓         ┃    ┃  ┃   ┃             ┃             ┃    ┃ ┃  ┃     ┃         ┃  \n",
      "    ┃     ┃     ┃              ┃    ┃  ┃  ┃     ┃     ┃  ┃         ┃                     96         ┃    ┃  ┃   ┃             ┃             ┃    ┃ ┃  ┃     ┃         ┃  \n",
      "    ┃     ┃     ┃              ┃    ┃  ┃  ┃     ┃     ┃  ┃         ┃                   ┏━━┻━━━┓     ┃    ┃  ┃   ┃             ┃             ┃    ┃ ┃  ┃     ┃         ┃  \n",
      "    ┃     ┃     ┃              ┃    ┃  ┃  ┃     ┃     ┃  ┃         ┃                   ┃      ┃     ┃    ┃  ┃   ┃             ┃             ┃    ┃ ┃  ┃     ┃        95  \n",
      "    ┃     ┃     ┃              ┃    ┃  ┃  ┃     ┃     ┃  ┃         ┃                   ┃      ┃     ┃    ┃  ┃   ┃             ┃             ┃    ┃ ┃  ┃     ┃       ┏━┻━┓\n",
      "    ┃     ┃     ┃              ┃    ┃  ┃  ┃     ┃     ┃  ┃         ┃                   ┃      ┃     ┃    ┃  ┃   ┃             ┃             ┃    ┃ ┃  ┃     ┃      94   ┃\n",
      "    ┃     ┃     ┃              ┃    ┃  ┃  ┃     ┃     ┃  ┃         ┃                   ┃      ┃     ┃    ┃  ┃   ┃             ┃             ┃    ┃ ┃  ┃     ┃     ┏━┻┓  ┃\n",
      "    ┃     ┃     ┃              ┃    ┃  ┃  ┃     ┃     ┃  ┃         ┃                   ┃      ┃    93    ┃  ┃   ┃             ┃             ┃    ┃ ┃  ┃     ┃     ┃  ┃  ┃\n",
      "    ┃     ┃     ┃              ┃    ┃  ┃  ┃     ┃     ┃  ┃         ┃                   ┃      ┃    ┏┻━┓  ┃  ┃   ┃             ┃             ┃    ┃ ┃  ┃     ┃     ┃  ┃  ┃\n",
      "    ┃     ┃     ┃             92    ┃  ┃  ┃     ┃     ┃  ┃         ┃                   ┃      ┃    ┃  ┃  ┃  ┃   ┃             ┃             ┃    ┃ ┃  ┃     ┃     ┃  ┃  ┃\n",
      "    ┃     ┃     ┃           ┏━━┻━━┓ ┃  ┃  ┃     ┃     ┃  ┃         ┃                   ┃      ┃    ┃  ┃  ┃  ┃   ┃             ┃             ┃    ┃ ┃  ┃     ┃     ┃  ┃  ┃\n",
      "    ┃     ┃     ┃           ┃     ┃ ┃  ┃  ┃     ┃     ┃  ┃         ┃                   ┃      ┃    ┃  ┃  ┃  ┃   ┃             ┃             ┃    ┃ ┃  ┃    91     ┃  ┃  ┃\n",
      "    ┃     ┃     ┃           ┃     ┃ ┃  ┃  ┃     ┃     ┃  ┃         ┃                   ┃      ┃    ┃  ┃  ┃  ┃   ┃             ┃             ┃    ┃ ┃  ┃  ┏━━┻━┓   ┃  ┃  ┃\n",
      "    ┃     ┃     ┃          90     ┃ ┃  ┃  ┃     ┃     ┃  ┃         ┃                   ┃      ┃    ┃  ┃  ┃  ┃   ┃             ┃             ┃    ┃ ┃  ┃  ┃    ┃   ┃  ┃  ┃\n",
      "    ┃     ┃     ┃         ┏━┻━━┓  ┃ ┃  ┃  ┃     ┃     ┃  ┃         ┃                   ┃      ┃    ┃  ┃  ┃  ┃   ┃             ┃             ┃    ┃ ┃  ┃  ┃    ┃   ┃  ┃  ┃\n",
      "    ┃     ┃     ┃         ┃    ┃  ┃ ┃  ┃  ┃     ┃     ┃  ┃        89                   ┃      ┃    ┃  ┃  ┃  ┃   ┃             ┃             ┃    ┃ ┃  ┃  ┃    ┃   ┃  ┃  ┃\n",
      "    ┃     ┃     ┃         ┃    ┃  ┃ ┃  ┃  ┃     ┃     ┃  ┃    ┏━━━━┻━━━━┓              ┃      ┃    ┃  ┃  ┃  ┃   ┃             ┃             ┃    ┃ ┃  ┃  ┃    ┃   ┃  ┃  ┃\n",
      "   88     ┃     ┃         ┃    ┃  ┃ ┃  ┃  ┃     ┃     ┃  ┃    ┃         ┃              ┃      ┃    ┃  ┃  ┃  ┃   ┃             ┃             ┃    ┃ ┃  ┃  ┃    ┃   ┃  ┃  ┃\n",
      "  ┏━┻━┓   ┃     ┃         ┃    ┃  ┃ ┃  ┃  ┃     ┃     ┃  ┃    ┃         ┃              ┃      ┃    ┃  ┃  ┃  ┃   ┃             ┃             ┃    ┃ ┃  ┃  ┃    ┃   ┃  ┃  ┃\n",
      "  ┃   ┃   ┃     ┃         ┃    ┃  ┃ ┃  ┃  ┃     ┃     ┃  ┃    ┃         ┃              ┃      ┃    ┃  ┃  ┃  ┃   ┃            87             ┃    ┃ ┃  ┃  ┃    ┃   ┃  ┃  ┃\n",
      "  ┃   ┃   ┃     ┃         ┃    ┃  ┃ ┃  ┃  ┃     ┃     ┃  ┃    ┃         ┃              ┃      ┃    ┃  ┃  ┃  ┃   ┃       ┏━━━━━┻━━━━━┓       ┃    ┃ ┃  ┃  ┃    ┃   ┃  ┃  ┃\n",
      "  ┃   ┃  86     ┃         ┃    ┃  ┃ ┃  ┃  ┃     ┃     ┃  ┃    ┃         ┃              ┃      ┃    ┃  ┃  ┃  ┃   ┃       ┃           ┃       ┃    ┃ ┃  ┃  ┃    ┃   ┃  ┃  ┃\n",
      "  ┃   ┃ ┏━┻┓    ┃         ┃    ┃  ┃ ┃  ┃  ┃     ┃     ┃  ┃    ┃         ┃              ┃      ┃    ┃  ┃  ┃  ┃   ┃       ┃           ┃       ┃    ┃ ┃  ┃  ┃    ┃   ┃  ┃  ┃\n",
      "  ┃   ┃ ┃  ┃    ┃         ┃    ┃  ┃ ┃  ┃  ┃     ┃     ┃  ┃    ┃         ┃              ┃      ┃    ┃  ┃  ┃  ┃  85       ┃           ┃       ┃    ┃ ┃  ┃  ┃    ┃   ┃  ┃  ┃\n",
      "  ┃   ┃ ┃  ┃    ┃         ┃    ┃  ┃ ┃  ┃  ┃     ┃     ┃  ┃    ┃         ┃              ┃      ┃    ┃  ┃  ┃  ┃  ┏┻━┓     ┃           ┃       ┃    ┃ ┃  ┃  ┃    ┃   ┃  ┃  ┃\n",
      "  ┃   ┃ ┃  ┃    ┃         ┃    ┃  ┃ ┃  ┃  ┃     ┃     ┃  ┃    ┃        84              ┃      ┃    ┃  ┃  ┃  ┃  ┃  ┃     ┃           ┃       ┃    ┃ ┃  ┃  ┃    ┃   ┃  ┃  ┃\n",
      "  ┃   ┃ ┃  ┃    ┃         ┃    ┃  ┃ ┃  ┃  ┃     ┃     ┃  ┃    ┃     ┏━━━┻━━━┓          ┃      ┃    ┃  ┃  ┃  ┃  ┃  ┃     ┃           ┃       ┃    ┃ ┃  ┃  ┃    ┃   ┃  ┃  ┃\n",
      "  ┃   ┃ ┃  ┃    ┃         ┃    ┃  ┃ ┃  ┃  ┃     ┃     ┃  ┃    ┃     ┃       ┃          ┃      ┃    ┃  ┃  ┃  ┃  ┃  ┃     ┃           ┃       ┃    ┃ ┃  ┃  ┃   83   ┃  ┃  ┃\n",
      "  ┃   ┃ ┃  ┃    ┃         ┃    ┃  ┃ ┃  ┃  ┃     ┃     ┃  ┃    ┃     ┃       ┃          ┃      ┃    ┃  ┃  ┃  ┃  ┃  ┃     ┃           ┃       ┃    ┃ ┃  ┃  ┃  ┏━┻┓  ┃  ┃  ┃\n",
      "  ┃   ┃ ┃  ┃    ┃         ┃    ┃  ┃ ┃  ┃  ┃     ┃     ┃  ┃    ┃     ┃      82          ┃      ┃    ┃  ┃  ┃  ┃  ┃  ┃     ┃           ┃       ┃    ┃ ┃  ┃  ┃  ┃  ┃  ┃  ┃  ┃\n",
      "  ┃   ┃ ┃  ┃    ┃         ┃    ┃  ┃ ┃  ┃  ┃     ┃     ┃  ┃    ┃     ┃   ┏━━━┻━━━━┓     ┃      ┃    ┃  ┃  ┃  ┃  ┃  ┃     ┃           ┃       ┃    ┃ ┃  ┃  ┃  ┃  ┃  ┃  ┃  ┃\n",
      "  ┃   ┃ ┃  ┃    ┃         ┃    ┃  ┃ ┃  ┃  ┃     ┃     ┃  ┃    ┃     ┃   ┃       81     ┃      ┃    ┃  ┃  ┃  ┃  ┃  ┃     ┃           ┃       ┃    ┃ ┃  ┃  ┃  ┃  ┃  ┃  ┃  ┃\n",
      "  ┃   ┃ ┃  ┃    ┃         ┃    ┃  ┃ ┃  ┃  ┃     ┃     ┃  ┃    ┃     ┃   ┃     ┏━━┻━━┓  ┃      ┃    ┃  ┃  ┃  ┃  ┃  ┃     ┃           ┃       ┃    ┃ ┃  ┃  ┃  ┃  ┃  ┃  ┃  ┃\n",
      "  ┃   ┃ ┃  ┃    ┃         ┃    ┃  ┃ ┃  ┃  ┃     ┃     ┃  ┃    ┃     ┃   ┃     ┃     ┃  ┃      ┃    ┃  ┃  ┃  ┃  ┃  ┃     ┃          80       ┃    ┃ ┃  ┃  ┃  ┃  ┃  ┃  ┃  ┃\n",
      "  ┃   ┃ ┃  ┃    ┃         ┃    ┃  ┃ ┃  ┃  ┃     ┃     ┃  ┃    ┃     ┃   ┃     ┃     ┃  ┃      ┃    ┃  ┃  ┃  ┃  ┃  ┃     ┃       ┏━━━┻━━━┓   ┃    ┃ ┃  ┃  ┃  ┃  ┃  ┃  ┃  ┃\n",
      "  ┃   ┃ ┃  ┃    ┃         ┃    ┃  ┃ ┃  ┃  ┃     ┃     ┃  ┃    ┃     ┃   ┃    79     ┃  ┃      ┃    ┃  ┃  ┃  ┃  ┃  ┃     ┃       ┃       ┃   ┃    ┃ ┃  ┃  ┃  ┃  ┃  ┃  ┃  ┃\n",
      "  ┃   ┃ ┃  ┃    ┃         ┃    ┃  ┃ ┃  ┃  ┃     ┃     ┃  ┃    ┃     ┃   ┃   ┏━┻━━┓  ┃  ┃      ┃    ┃  ┃  ┃  ┃  ┃  ┃     ┃       ┃       ┃   ┃    ┃ ┃  ┃  ┃  ┃  ┃  ┃  ┃  ┃\n",
      "  ┃   ┃ ┃  ┃    ┃         ┃    ┃  ┃ ┃  ┃  ┃     ┃     ┃  ┃   78     ┃   ┃   ┃    ┃  ┃  ┃      ┃    ┃  ┃  ┃  ┃  ┃  ┃     ┃       ┃       ┃   ┃    ┃ ┃  ┃  ┃  ┃  ┃  ┃  ┃  ┃\n",
      "  ┃   ┃ ┃  ┃    ┃         ┃    ┃  ┃ ┃  ┃  ┃     ┃     ┃  ┃  ┏━┻┓    ┃   ┃   ┃    ┃  ┃  ┃      ┃    ┃  ┃  ┃  ┃  ┃  ┃     ┃       ┃       ┃   ┃    ┃ ┃  ┃  ┃  ┃  ┃  ┃  ┃  ┃\n",
      "  ┃   ┃ ┃  ┃    ┃         ┃    ┃  ┃ ┃  ┃  ┃     ┃     ┃  ┃  ┃  ┃    ┃   ┃   ┃    ┃  ┃  ┃      ┃    ┃  ┃  ┃  ┃  ┃  ┃     ┃      77       ┃   ┃    ┃ ┃  ┃  ┃  ┃  ┃  ┃  ┃  ┃\n",
      "  ┃   ┃ ┃  ┃    ┃         ┃    ┃  ┃ ┃  ┃  ┃     ┃     ┃  ┃  ┃  ┃    ┃   ┃   ┃    ┃  ┃  ┃      ┃    ┃  ┃  ┃  ┃  ┃  ┃     ┃    ┏━━┻━┓     ┃   ┃    ┃ ┃  ┃  ┃  ┃  ┃  ┃  ┃  ┃\n",
      "  ┃   ┃ ┃  ┃    ┃         ┃    ┃  ┃ ┃  ┃  ┃     ┃     ┃  ┃  ┃  ┃    ┃   ┃   ┃    ┃  ┃  ┃      ┃    ┃  ┃  ┃  ┃  ┃  ┃     ┃    ┃    ┃     ┃  76    ┃ ┃  ┃  ┃  ┃  ┃  ┃  ┃  ┃\n",
      "  ┃   ┃ ┃  ┃    ┃         ┃    ┃  ┃ ┃  ┃  ┃     ┃     ┃  ┃  ┃  ┃    ┃   ┃   ┃    ┃  ┃  ┃      ┃    ┃  ┃  ┃  ┃  ┃  ┃     ┃    ┃    ┃     ┃  ┏┻━┓  ┃ ┃  ┃  ┃  ┃  ┃  ┃  ┃  ┃\n",
      "  ┃   ┃ ┃  ┃    ┃         ┃    ┃  ┃ ┃  ┃  ┃     ┃     ┃  ┃  ┃  ┃    ┃   ┃   ┃    ┃  ┃  ┃     75    ┃  ┃  ┃  ┃  ┃  ┃     ┃    ┃    ┃     ┃  ┃  ┃  ┃ ┃  ┃  ┃  ┃  ┃  ┃  ┃  ┃\n",
      "  ┃   ┃ ┃  ┃    ┃         ┃    ┃  ┃ ┃  ┃  ┃     ┃     ┃  ┃  ┃  ┃    ┃   ┃   ┃    ┃  ┃  ┃    ┏━┻━┓  ┃  ┃  ┃  ┃  ┃  ┃     ┃    ┃    ┃     ┃  ┃  ┃  ┃ ┃  ┃  ┃  ┃  ┃  ┃  ┃  ┃\n",
      "  ┃   ┃ ┃  ┃    ┃         ┃    ┃  ┃ ┃  ┃  ┃    74     ┃  ┃  ┃  ┃    ┃   ┃   ┃    ┃  ┃  ┃    ┃   ┃  ┃  ┃  ┃  ┃  ┃  ┃     ┃    ┃    ┃     ┃  ┃  ┃  ┃ ┃  ┃  ┃  ┃  ┃  ┃  ┃  ┃\n",
      "  ┃   ┃ ┃  ┃    ┃         ┃    ┃  ┃ ┃  ┃  ┃   ┏━┻━━┓  ┃  ┃  ┃  ┃    ┃   ┃   ┃    ┃  ┃  ┃    ┃   ┃  ┃  ┃  ┃  ┃  ┃  ┃     ┃    ┃    ┃     ┃  ┃  ┃  ┃ ┃  ┃  ┃  ┃  ┃  ┃  ┃  ┃\n",
      "  ┃   ┃ ┃  ┃    ┃         ┃    ┃  ┃ ┃  ┃  ┃   ┃    ┃  ┃  ┃  ┃  ┃    ┃   ┃   ┃    ┃  ┃  ┃    ┃   ┃  ┃  ┃  ┃  ┃  ┃  ┃    73    ┃    ┃     ┃  ┃  ┃  ┃ ┃  ┃  ┃  ┃  ┃  ┃  ┃  ┃\n",
      "  ┃   ┃ ┃  ┃    ┃         ┃    ┃  ┃ ┃  ┃  ┃   ┃    ┃  ┃  ┃  ┃  ┃    ┃   ┃   ┃    ┃  ┃  ┃    ┃   ┃  ┃  ┃  ┃  ┃  ┃  ┃   ┏━┻━┓  ┃    ┃     ┃  ┃  ┃  ┃ ┃  ┃  ┃  ┃  ┃  ┃  ┃  ┃\n",
      "  ┃   ┃ ┃  ┃    ┃         ┃    ┃  ┃ ┃  ┃  ┃   ┃    ┃  ┃  ┃  ┃  ┃    ┃   ┃   ┃    ┃  ┃  ┃    ┃   ┃  ┃  ┃  ┃  ┃  ┃  ┃   ┃   ┃  ┃   72     ┃  ┃  ┃  ┃ ┃  ┃  ┃  ┃  ┃  ┃  ┃  ┃\n",
      "  ┃   ┃ ┃  ┃    ┃         ┃    ┃  ┃ ┃  ┃  ┃   ┃    ┃  ┃  ┃  ┃  ┃    ┃   ┃   ┃    ┃  ┃  ┃    ┃   ┃  ┃  ┃  ┃  ┃  ┃  ┃   ┃   ┃  ┃  ┏━┻┓    ┃  ┃  ┃  ┃ ┃  ┃  ┃  ┃  ┃  ┃  ┃  ┃\n",
      "  ┃   ┃ ┃  ┃   71         ┃    ┃  ┃ ┃  ┃  ┃   ┃    ┃  ┃  ┃  ┃  ┃    ┃   ┃   ┃    ┃  ┃  ┃    ┃   ┃  ┃  ┃  ┃  ┃  ┃  ┃   ┃   ┃  ┃  ┃  ┃    ┃  ┃  ┃  ┃ ┃  ┃  ┃  ┃  ┃  ┃  ┃  ┃\n",
      "  ┃   ┃ ┃  ┃ ┏━━┻━┓       ┃    ┃  ┃ ┃  ┃  ┃   ┃    ┃  ┃  ┃  ┃  ┃    ┃   ┃   ┃    ┃  ┃  ┃    ┃   ┃  ┃  ┃  ┃  ┃  ┃  ┃   ┃   ┃  ┃  ┃  ┃    ┃  ┃  ┃  ┃ ┃  ┃  ┃  ┃  ┃  ┃  ┃  ┃\n",
      "  ┃   ┃ ┃  ┃ ┃    ┃       ┃    ┃  ┃ ┃  ┃  ┃   ┃    ┃  ┃  ┃  ┃  ┃    ┃   ┃   ┃    ┃  ┃  ┃    ┃   ┃  ┃  ┃  ┃  ┃  ┃  ┃  70   ┃  ┃  ┃  ┃    ┃  ┃  ┃  ┃ ┃  ┃  ┃  ┃  ┃  ┃  ┃  ┃\n",
      "  ┃   ┃ ┃  ┃ ┃    ┃       ┃    ┃  ┃ ┃  ┃  ┃   ┃    ┃  ┃  ┃  ┃  ┃    ┃   ┃   ┃    ┃  ┃  ┃    ┃   ┃  ┃  ┃  ┃  ┃  ┃  ┃ ┏━┻┓  ┃  ┃  ┃  ┃    ┃  ┃  ┃  ┃ ┃  ┃  ┃  ┃  ┃  ┃  ┃  ┃\n",
      "  ┃   ┃ ┃  ┃ ┃    ┃       ┃    ┃  ┃ ┃  ┃  ┃   ┃    ┃  ┃  ┃  ┃  ┃    ┃   ┃   ┃    ┃  ┃  ┃    ┃   ┃  ┃  ┃  ┃  ┃  ┃  ┃ ┃  ┃  ┃  ┃  ┃  ┃   69  ┃  ┃  ┃ ┃  ┃  ┃  ┃  ┃  ┃  ┃  ┃\n",
      "  ┃   ┃ ┃  ┃ ┃    ┃       ┃    ┃  ┃ ┃  ┃  ┃   ┃    ┃  ┃  ┃  ┃  ┃    ┃   ┃   ┃    ┃  ┃  ┃    ┃   ┃  ┃  ┃  ┃  ┃  ┃  ┃ ┃  ┃  ┃  ┃  ┃  ┃  ┏━┻┓ ┃  ┃  ┃ ┃  ┃  ┃  ┃  ┃  ┃  ┃  ┃\n",
      "  ┃   ┃ ┃  ┃ ┃    ┃      68    ┃  ┃ ┃  ┃  ┃   ┃    ┃  ┃  ┃  ┃  ┃    ┃   ┃   ┃    ┃  ┃  ┃    ┃   ┃  ┃  ┃  ┃  ┃  ┃  ┃ ┃  ┃  ┃  ┃  ┃  ┃  ┃  ┃ ┃  ┃  ┃ ┃  ┃  ┃  ┃  ┃  ┃  ┃  ┃\n",
      "  ┃   ┃ ┃  ┃ ┃    ┃      ┏┻━┓  ┃  ┃ ┃  ┃  ┃   ┃    ┃  ┃  ┃  ┃  ┃    ┃   ┃   ┃    ┃  ┃  ┃    ┃   ┃  ┃  ┃  ┃  ┃  ┃  ┃ ┃  ┃  ┃  ┃  ┃  ┃  ┃  ┃ ┃  ┃  ┃ ┃  ┃  ┃  ┃  ┃  ┃  ┃  ┃\n",
      "  ┃   ┃ ┃  ┃ ┃   67      ┃  ┃  ┃  ┃ ┃  ┃  ┃   ┃    ┃  ┃  ┃  ┃  ┃    ┃   ┃   ┃    ┃  ┃  ┃    ┃   ┃  ┃  ┃  ┃  ┃  ┃  ┃ ┃  ┃  ┃  ┃  ┃  ┃  ┃  ┃ ┃  ┃  ┃ ┃  ┃  ┃  ┃  ┃  ┃  ┃  ┃\n",
      "  ┃   ┃ ┃  ┃ ┃  ┏━┻━┓    ┃  ┃  ┃  ┃ ┃  ┃  ┃   ┃    ┃  ┃  ┃  ┃  ┃    ┃   ┃   ┃    ┃  ┃  ┃    ┃   ┃  ┃  ┃  ┃  ┃  ┃  ┃ ┃  ┃  ┃  ┃  ┃  ┃  ┃  ┃ ┃  ┃  ┃ ┃  ┃  ┃  ┃  ┃  ┃  ┃  ┃\n",
      "  ┃   ┃ ┃  ┃ ┃  ┃   ┃    ┃  ┃  ┃  ┃ ┃  ┃  ┃   ┃    ┃  ┃ 66  ┃  ┃    ┃   ┃   ┃    ┃  ┃  ┃    ┃   ┃  ┃  ┃  ┃  ┃  ┃  ┃ ┃  ┃  ┃  ┃  ┃  ┃  ┃  ┃ ┃  ┃  ┃ ┃  ┃  ┃  ┃  ┃  ┃  ┃  ┃\n",
      "  ┃   ┃ ┃  ┃ ┃  ┃   ┃    ┃  ┃  ┃  ┃ ┃  ┃  ┃   ┃    ┃  ┃ ┏┻┓ ┃  ┃    ┃   ┃   ┃    ┃  ┃  ┃    ┃   ┃  ┃  ┃  ┃  ┃  ┃  ┃ ┃  ┃  ┃  ┃  ┃  ┃  ┃  ┃ ┃  ┃  ┃ ┃  ┃  ┃  ┃  ┃  ┃  ┃  ┃\n",
      "  ┃   ┃ ┃  ┃ ┃  ┃   ┃    ┃  ┃  ┃  ┃ ┃  ┃  ┃   ┃    ┃  ┃ ┃ ┃ ┃  ┃    ┃   ┃  65    ┃  ┃  ┃    ┃   ┃  ┃  ┃  ┃  ┃  ┃  ┃ ┃  ┃  ┃  ┃  ┃  ┃  ┃  ┃ ┃  ┃  ┃ ┃  ┃  ┃  ┃  ┃  ┃  ┃  ┃\n",
      "  ┃   ┃ ┃  ┃ ┃  ┃   ┃    ┃  ┃  ┃  ┃ ┃  ┃  ┃   ┃    ┃  ┃ ┃ ┃ ┃  ┃    ┃   ┃  ┏┻━┓  ┃  ┃  ┃    ┃   ┃  ┃  ┃  ┃  ┃  ┃  ┃ ┃  ┃  ┃  ┃  ┃  ┃  ┃  ┃ ┃  ┃  ┃ ┃  ┃  ┃  ┃  ┃  ┃  ┃  ┃\n",
      " 64   ┃ ┃  ┃ ┃  ┃   ┃    ┃  ┃  ┃  ┃ ┃  ┃  ┃   ┃    ┃  ┃ ┃ ┃ ┃  ┃    ┃   ┃  ┃  ┃  ┃  ┃  ┃    ┃   ┃  ┃  ┃  ┃  ┃  ┃  ┃ ┃  ┃  ┃  ┃  ┃  ┃  ┃  ┃ ┃  ┃  ┃ ┃  ┃  ┃  ┃  ┃  ┃  ┃  ┃\n",
      "┏━┻┓  ┃ ┃  ┃ ┃  ┃   ┃    ┃  ┃  ┃  ┃ ┃  ┃  ┃   ┃    ┃  ┃ ┃ ┃ ┃  ┃    ┃   ┃  ┃  ┃  ┃  ┃  ┃    ┃   ┃  ┃  ┃  ┃  ┃  ┃  ┃ ┃  ┃  ┃  ┃  ┃  ┃  ┃  ┃ ┃  ┃  ┃ ┃  ┃  ┃  ┃  ┃  ┃  ┃  ┃\n",
      "┃  ┃  ┃ ┃  ┃ ┃  ┃  63    ┃  ┃  ┃  ┃ ┃  ┃  ┃   ┃    ┃  ┃ ┃ ┃ ┃  ┃    ┃   ┃  ┃  ┃  ┃  ┃  ┃    ┃   ┃  ┃  ┃  ┃  ┃  ┃  ┃ ┃  ┃  ┃  ┃  ┃  ┃  ┃  ┃ ┃  ┃  ┃ ┃  ┃  ┃  ┃  ┃  ┃  ┃  ┃\n",
      "┃  ┃  ┃ ┃  ┃ ┃  ┃  ┏┻━┓  ┃  ┃  ┃  ┃ ┃  ┃  ┃   ┃    ┃  ┃ ┃ ┃ ┃  ┃    ┃   ┃  ┃  ┃  ┃  ┃  ┃    ┃   ┃  ┃  ┃  ┃  ┃  ┃  ┃ ┃  ┃  ┃  ┃  ┃  ┃  ┃  ┃ ┃  ┃  ┃ ┃  ┃  ┃  ┃  ┃  ┃  ┃  ┃\n",
      "┃  ┃  ┃ ┃  ┃ ┃  ┃  ┃  ┃  ┃  ┃  ┃  ┃ ┃  ┃  ┃  62    ┃  ┃ ┃ ┃ ┃  ┃    ┃   ┃  ┃  ┃  ┃  ┃  ┃    ┃   ┃  ┃  ┃  ┃  ┃  ┃  ┃ ┃  ┃  ┃  ┃  ┃  ┃  ┃  ┃ ┃  ┃  ┃ ┃  ┃  ┃  ┃  ┃  ┃  ┃  ┃\n",
      "┃  ┃  ┃ ┃  ┃ ┃  ┃  ┃  ┃  ┃  ┃  ┃  ┃ ┃  ┃  ┃  ┏┻━┓  ┃  ┃ ┃ ┃ ┃  ┃    ┃   ┃  ┃  ┃  ┃  ┃  ┃    ┃   ┃  ┃  ┃  ┃  ┃  ┃  ┃ ┃  ┃  ┃  ┃  ┃  ┃  ┃  ┃ ┃  ┃  ┃ ┃  ┃  ┃  ┃  ┃  ┃  ┃  ┃\n",
      "┃  ┃  ┃ ┃  ┃ ┃  ┃  ┃  ┃  ┃  ┃  ┃  ┃ ┃  ┃  ┃  ┃  ┃  ┃  ┃ ┃ ┃ ┃  ┃    ┃   ┃  ┃  ┃  ┃  ┃  ┃   61   ┃  ┃  ┃  ┃  ┃  ┃  ┃ ┃  ┃  ┃  ┃  ┃  ┃  ┃  ┃ ┃  ┃  ┃ ┃  ┃  ┃  ┃  ┃  ┃  ┃  ┃\n",
      "┃  ┃  ┃ ┃  ┃ ┃  ┃  ┃  ┃  ┃  ┃  ┃  ┃ ┃  ┃  ┃  ┃  ┃  ┃  ┃ ┃ ┃ ┃  ┃    ┃   ┃  ┃  ┃  ┃  ┃  ┃  ┏━┻┓  ┃  ┃  ┃  ┃  ┃  ┃  ┃ ┃  ┃  ┃  ┃  ┃  ┃  ┃  ┃ ┃  ┃  ┃ ┃  ┃  ┃  ┃  ┃  ┃  ┃  ┃\n",
      "┃  ┃  ┃ ┃  ┃ ┃  ┃  ┃  ┃  ┃  ┃  ┃  ┃ ┃  ┃  ┃  ┃  ┃  ┃  ┃ ┃ ┃ ┃  ┃   60   ┃  ┃  ┃  ┃  ┃  ┃  ┃  ┃  ┃  ┃  ┃  ┃  ┃  ┃  ┃ ┃  ┃  ┃  ┃  ┃  ┃  ┃  ┃ ┃  ┃  ┃ ┃  ┃  ┃  ┃  ┃  ┃  ┃  ┃\n",
      "┃  ┃  ┃ ┃  ┃ ┃  ┃  ┃  ┃  ┃  ┃  ┃  ┃ ┃  ┃  ┃  ┃  ┃  ┃  ┃ ┃ ┃ ┃  ┃  ┏━┻┓  ┃  ┃  ┃  ┃  ┃  ┃  ┃  ┃  ┃  ┃  ┃  ┃  ┃  ┃  ┃ ┃  ┃  ┃  ┃  ┃  ┃  ┃  ┃ ┃  ┃  ┃ ┃  ┃  ┃  ┃  ┃  ┃  ┃  ┃\n",
      "0 54 39 4 29 2 16 43 46 25 27 34 44 6 48 35 37 57 58 18 3 8 9 15 12 19 21 33 59 49 41 14 28 53 38 20 51 42 56 11 22 1 24 50 23 47 55 45 52 5 17 13 7 30 10 26 40 31 32 36\n",
      "\n"
     ]
    }
   ],
   "source": [
    "population_configurations= [msprime.PopulationConfiguration(sample_size=20),msprime.PopulationConfiguration(sample_size=20),msprime.PopulationConfiguration(sample_size=20)]\n",
    "m=0.1\n",
    "#m=migration rate =  with the [j, k]th element giving the fraction of population j that consists of migrants from population k in each generation.\n",
    "migration_matrix = [\n",
    "    [0,m,m],\n",
    "    [m,0,m],\n",
    "    [m,m,0]]\n",
    "ts2 = msprime.simulate(Ne=1000, length=50e3, population_configurations=population_configurations, migration_matrix=migration_matrix, mutation_rate=5e-7, random_seed=30)\n",
    "tree = ts2.first()\n",
    "#for site in tree.sites():\n",
    "    #for mutation in site.mutations:\n",
    "        #print(\"Mutation @ position {:.2f} over node {}\".format(site.position, mutation.node))\n",
    "print(tree.draw(format=\"unicode\"))\n",
    "#for variant in ts2.variants():\n",
    "    #print(variant.site.id, variant.site.position, variant.alleles, variant.genotypes, sep=\"\\t\")"
   ]
  },
  {
   "cell_type": "code",
   "execution_count": 28,
   "metadata": {},
   "outputs": [
    {
     "name": "stdout",
     "output_type": "stream",
     "text": [
      "[  0. 429. 228.  41.  18.  38.  50.   1.  60.   2.   0.   0.   0.  22.\n",
      "   0.  11.   0.  22.   0. 334.  11.  77.   0.   0.   0.   0.   0.   0.\n",
      "   0.   0.   0.   0.   0.   0.   0.   0.   0.   0.   0.   0.   0.  50.\n",
      "   0.   0.   0.   0.   0.   0.   0.   0.   0.   0.   0.   0.   0.   0.\n",
      "   0.   0.   0.   0.   0.]\n"
     ]
    },
    {
     "data": {
      "text/plain": [
       "(0.4, 61.0)"
      ]
     },
     "execution_count": 28,
     "metadata": {},
     "output_type": "execute_result"
    },
    {
     "data": {
      "image/png": "[encoded data removed]",
      "text/plain": [
       "<Figure size 720x504 with 1 Axes>"
      ]
     },
     "metadata": {
      "needs_background": "light"
     },
     "output_type": "display_data"
    }
   ],
   "source": [
    "afs2 = ts2.allele_frequency_spectrum(polarised=True, span_normalise=False)\n",
    "x=np.arange(len(afs2))\n",
    "print(afs2)\n",
    "sum(afs2)\n",
    "plt.rcParams[\"figure.figsize\"] = (10,7)\n",
    "plt.bar(x,afs2)\n",
    "plt.xlim(0.4,len(afs2))"
   ]
  },
  {
   "cell_type": "code",
   "execution_count": 25,
   "metadata": {},
   "outputs": [
    {
     "name": "stdout",
     "output_type": "stream",
     "text": [
      "                                                        58                     \n",
      "                                        ┏━━━━━━━━━━━━━━━━┻━━━━━━━━━━━━━━━━┓    \n",
      "                                       57                                 ┃    \n",
      "                    ┏━━━━━━━━━━━━━━━━━━━┻━━━━━━━━━━━━━━━━━━┓              ┃    \n",
      "                    ┃                                     56              ┃    \n",
      "                    ┃                                  ┏━━━┻━━━┓          ┃    \n",
      "                    ┃                                 55       ┃          ┃    \n",
      "                    ┃                             ┏━━━━┻━━━━┓  ┃          ┃    \n",
      "                    ┃                            54         ┃  ┃          ┃    \n",
      "                    ┃                     ┏━━━━━━━┻━━━━━━┓  ┃  ┃          ┃    \n",
      "                   53                     ┃              ┃  ┃  ┃          ┃    \n",
      "           ┏━━━━━━━━┻━━━━━━━┓             ┃              ┃  ┃  ┃          ┃    \n",
      "           ┃                ┃             ┃              ┃  ┃  ┃         52    \n",
      "           ┃                ┃             ┃              ┃  ┃  ┃       ┏━━┻━━━┓\n",
      "           ┃                ┃            51              ┃  ┃  ┃       ┃      ┃\n",
      "           ┃                ┃      ┏━━━━━━┻━━━━━┓        ┃  ┃  ┃       ┃      ┃\n",
      "          50                ┃      ┃            ┃        ┃  ┃  ┃       ┃      ┃\n",
      "      ┏━━━━┻━━━━┓           ┃      ┃            ┃        ┃  ┃  ┃       ┃      ┃\n",
      "     49         ┃           ┃      ┃            ┃        ┃  ┃  ┃       ┃      ┃\n",
      "    ┏━┻━┓       ┃           ┃      ┃            ┃        ┃  ┃  ┃       ┃      ┃\n",
      "    ┃   ┃      48           ┃      ┃            ┃        ┃  ┃  ┃       ┃      ┃\n",
      "    ┃   ┃   ┏━━━┻━━━┓       ┃      ┃            ┃        ┃  ┃  ┃       ┃      ┃\n",
      "    ┃   ┃   ┃       ┃       ┃      ┃            ┃        ┃  ┃  ┃      47      ┃\n",
      "    ┃   ┃   ┃       ┃       ┃      ┃            ┃        ┃  ┃  ┃    ┏━━┻━━┓   ┃\n",
      "   46   ┃   ┃       ┃       ┃      ┃            ┃        ┃  ┃  ┃    ┃     ┃   ┃\n",
      "  ┏━┻┓  ┃   ┃       ┃       ┃      ┃            ┃        ┃  ┃  ┃    ┃     ┃   ┃\n",
      "  ┃  ┃  ┃   ┃       ┃       ┃      ┃           45        ┃  ┃  ┃    ┃     ┃   ┃\n",
      "  ┃  ┃  ┃   ┃       ┃       ┃      ┃        ┏━━━┻━━━┓    ┃  ┃  ┃    ┃     ┃   ┃\n",
      "  ┃  ┃  ┃   ┃       ┃       ┃      ┃        ┃       ┃    ┃  ┃  ┃   44     ┃   ┃\n",
      "  ┃  ┃  ┃   ┃       ┃       ┃      ┃        ┃       ┃    ┃  ┃  ┃  ┏━┻━┓   ┃   ┃\n",
      " 43  ┃  ┃   ┃       ┃       ┃      ┃        ┃       ┃    ┃  ┃  ┃  ┃   ┃   ┃   ┃\n",
      "┏━┻┓ ┃  ┃   ┃       ┃       ┃      ┃        ┃       ┃    ┃  ┃  ┃  ┃   ┃   ┃   ┃\n",
      "┃  ┃ ┃  ┃   ┃       ┃      42      ┃        ┃       ┃    ┃  ┃  ┃  ┃   ┃   ┃   ┃\n",
      "┃  ┃ ┃  ┃   ┃       ┃     ┏━┻┓     ┃        ┃       ┃    ┃  ┃  ┃  ┃   ┃   ┃   ┃\n",
      "┃  ┃ ┃  ┃   ┃       ┃     ┃  ┃    41        ┃       ┃    ┃  ┃  ┃  ┃   ┃   ┃   ┃\n",
      "┃  ┃ ┃  ┃   ┃       ┃     ┃  ┃  ┏━━┻━━┓     ┃       ┃    ┃  ┃  ┃  ┃   ┃   ┃   ┃\n",
      "┃  ┃ ┃  ┃   ┃       ┃     ┃  ┃  ┃     ┃    40       ┃    ┃  ┃  ┃  ┃   ┃   ┃   ┃\n",
      "┃  ┃ ┃  ┃   ┃       ┃     ┃  ┃  ┃     ┃   ┏━┻━┓     ┃    ┃  ┃  ┃  ┃   ┃   ┃   ┃\n",
      "┃  ┃ ┃  ┃   ┃       ┃     ┃  ┃ 39     ┃   ┃   ┃     ┃    ┃  ┃  ┃  ┃   ┃   ┃   ┃\n",
      "┃  ┃ ┃  ┃   ┃       ┃     ┃  ┃ ┏┻━┓   ┃   ┃   ┃     ┃    ┃  ┃  ┃  ┃   ┃   ┃   ┃\n",
      "┃  ┃ ┃  ┃   ┃       ┃     ┃  ┃ ┃  ┃   ┃   ┃   ┃     ┃    ┃  ┃  ┃ 38   ┃   ┃   ┃\n",
      "┃  ┃ ┃  ┃   ┃       ┃     ┃  ┃ ┃  ┃   ┃   ┃   ┃     ┃    ┃  ┃  ┃ ┏┻┓  ┃   ┃   ┃\n",
      "┃  ┃ ┃  ┃   ┃       ┃     ┃  ┃ ┃  ┃  37   ┃   ┃     ┃    ┃  ┃  ┃ ┃ ┃  ┃   ┃   ┃\n",
      "┃  ┃ ┃  ┃   ┃       ┃     ┃  ┃ ┃  ┃  ┏┻━┓ ┃   ┃     ┃    ┃  ┃  ┃ ┃ ┃  ┃   ┃   ┃\n",
      "┃  ┃ ┃  ┃   ┃      36     ┃  ┃ ┃  ┃  ┃  ┃ ┃   ┃     ┃    ┃  ┃  ┃ ┃ ┃  ┃   ┃   ┃\n",
      "┃  ┃ ┃  ┃   ┃    ┏━━┻━┓   ┃  ┃ ┃  ┃  ┃  ┃ ┃   ┃     ┃    ┃  ┃  ┃ ┃ ┃  ┃   ┃   ┃\n",
      "┃  ┃ ┃  ┃   ┃    ┃   35   ┃  ┃ ┃  ┃  ┃  ┃ ┃   ┃     ┃    ┃  ┃  ┃ ┃ ┃  ┃   ┃   ┃\n",
      "┃  ┃ ┃  ┃   ┃    ┃  ┏━┻┓  ┃  ┃ ┃  ┃  ┃  ┃ ┃   ┃     ┃    ┃  ┃  ┃ ┃ ┃  ┃   ┃   ┃\n",
      "┃  ┃ ┃  ┃  34    ┃  ┃  ┃  ┃  ┃ ┃  ┃  ┃  ┃ ┃   ┃     ┃    ┃  ┃  ┃ ┃ ┃  ┃   ┃   ┃\n",
      "┃  ┃ ┃  ┃ ┏━┻━┓  ┃  ┃  ┃  ┃  ┃ ┃  ┃  ┃  ┃ ┃   ┃     ┃    ┃  ┃  ┃ ┃ ┃  ┃   ┃   ┃\n",
      "┃  ┃ ┃  ┃ ┃   ┃  ┃  ┃  ┃  ┃  ┃ ┃  ┃  ┃  ┃ ┃   ┃     ┃    ┃  ┃  ┃ ┃ ┃  ┃  33   ┃\n",
      "┃  ┃ ┃  ┃ ┃   ┃  ┃  ┃  ┃  ┃  ┃ ┃  ┃  ┃  ┃ ┃   ┃     ┃    ┃  ┃  ┃ ┃ ┃  ┃ ┏━┻┓  ┃\n",
      "┃  ┃ ┃  ┃ ┃   ┃  ┃  ┃  ┃  ┃  ┃ ┃  ┃  ┃  ┃ ┃   ┃    32    ┃  ┃  ┃ ┃ ┃  ┃ ┃  ┃  ┃\n",
      "┃  ┃ ┃  ┃ ┃   ┃  ┃  ┃  ┃  ┃  ┃ ┃  ┃  ┃  ┃ ┃   ┃    ┏┻━┓  ┃  ┃  ┃ ┃ ┃  ┃ ┃  ┃  ┃\n",
      "┃  ┃ ┃  ┃ ┃  31  ┃  ┃  ┃  ┃  ┃ ┃  ┃  ┃  ┃ ┃   ┃    ┃  ┃  ┃  ┃  ┃ ┃ ┃  ┃ ┃  ┃  ┃\n",
      "┃  ┃ ┃  ┃ ┃ ┏━┻┓ ┃  ┃  ┃  ┃  ┃ ┃  ┃  ┃  ┃ ┃   ┃    ┃  ┃  ┃  ┃  ┃ ┃ ┃  ┃ ┃  ┃  ┃\n",
      "┃  ┃ ┃  ┃ ┃ ┃  ┃ ┃  ┃  ┃  ┃  ┃ ┃  ┃  ┃  ┃ ┃  30    ┃  ┃  ┃  ┃  ┃ ┃ ┃  ┃ ┃  ┃  ┃\n",
      "┃  ┃ ┃  ┃ ┃ ┃  ┃ ┃  ┃  ┃  ┃  ┃ ┃  ┃  ┃  ┃ ┃  ┏┻━┓  ┃  ┃  ┃  ┃  ┃ ┃ ┃  ┃ ┃  ┃  ┃\n",
      "0 13 4 18 5 7 24 8 11 27 14 19 1 10 16 23 6 20 21 12 25 26 28 29 2 9 22 3 15 17\n",
      "\n"
     ]
    }
   ],
   "source": [
    "population_configurations= [msprime.PopulationConfiguration(sample_size=10),msprime.PopulationConfiguration(sample_size=10),msprime.PopulationConfiguration(sample_size=10)]\n",
    "m=0.1\n",
    "#m=migration rate \n",
    "migration_matrix = [\n",
    "    [0,m,m],\n",
    "    [m,0,m],\n",
    "    [m,m,0]]\n",
    "ts3 = msprime.simulate(Ne=1000, length=50e3, population_configurations=population_configurations, migration_matrix=migration_matrix, mutation_rate=5e-7, random_seed=30)\n",
    "tree = ts3.first()\n",
    "#for site in tree.sites():\n",
    "    #for mutation in site.mutations:\n",
    "        #print(\"Mutation @ position {:.2f} over node {}\".format(site.position, mutation.node))\n",
    "print(tree.draw(format=\"unicode\"))\n",
    "#for variant in ts3.variants():\n",
    "    #print(variant.site.id, variant.site.position, variant.alleles, variant.genotypes, sep=\"\\t\")"
   ]
  },
  {
   "cell_type": "code",
   "execution_count": 26,
   "metadata": {},
   "outputs": [
    {
     "name": "stdout",
     "output_type": "stream",
     "text": [
      "[  0. 511. 100.  38.  57.  53. 416.   0.   0.  25.  86.  19. 143.   0.\n",
      "   0.   0.   0.   0.   0.   0.   0.   0.   0.   0. 317.   0.   0.   0.\n",
      "   0.   0.   0.]\n"
     ]
    },
    {
     "data": {
      "text/plain": [
       "(0.4, 31.0)"
      ]
     },
     "execution_count": 26,
     "metadata": {},
     "output_type": "execute_result"
    },
    {
     "data": {
      "image/png": "[encoded data removed]",
      "text/plain": [
       "<Figure size 720x504 with 1 Axes>"
      ]
     },
     "metadata": {
      "needs_background": "light"
     },
     "output_type": "display_data"
    }
   ],
   "source": [
    "afs3 = ts3.allele_frequency_spectrum(polarised=True, span_normalise=False)\n",
    "x=np.arange(len(afs3))\n",
    "print(afs3)\n",
    "plt.rcParams[\"figure.figsize\"] = (10,7)\n",
    "plt.bar(x,afs3)\n",
    "plt.xlim(0.4,len(afs3))"
   ]
  },
  {
   "cell_type": "code",
   "execution_count": 31,
   "metadata": {},
   "outputs": [],
   "source": [
    "population_configurations= [msprime.PopulationConfiguration(sample_size=50),msprime.PopulationConfiguration(sample_size=50),msprime.PopulationConfiguration(sample_size=50)]\n",
    "m=0.1\n",
    "#m=migration rate \n",
    "migration_matrix = [\n",
    "    [0,m,m],\n",
    "    [m,0,m],\n",
    "    [m,m,0]]\n",
    "ts4 = msprime.simulate(Ne=1000, length=50e3, population_configurations=population_configurations, migration_matrix=migration_matrix, mutation_rate=5e-7, random_seed=30)\n",
    "tree = ts4.first()\n",
    "#print(tree.draw(format=\"unicode\"))\n"
   ]
  },
  {
   "cell_type": "code",
   "execution_count": 24,
   "metadata": {},
   "outputs": [
    {
     "name": "stdout",
     "output_type": "stream",
     "text": [
      "[  0. 346.  52. 148.  41.  11. 165.  57.   9.  18.  11.  35. 140.   7.\n",
      "  20.   9.   0.  13.   4.   0.   0.   6.  39.   0.   3.   0.   0.  49.\n",
      "   0.   0.  72.   0.   0.   0.   0.   0.   0.   0.  15.   0.   0.   0.\n",
      "  27.   0.   0.   0.   0.   0.   0.   0.   0.   0.   0.   0.   0.   0.\n",
      "   0.   0.   0.   0.  19.   0.   0.   0.   0.   0.   0.   0.   0.   0.\n",
      "   0.   0.   0.   0.   0.   0.   0.   0.   0.   0.   0.   0.   0.   0.\n",
      "   0.   0.   0.   0.   0.   0.   0.   0.   0.   0.   0.   0.   0.   0.\n",
      "   0.   0.   0.   0.  12.   0.   0.   0.   0.   0.   0.   0.   0.   0.\n",
      "   0.   0.   0.   0.   0.   0.   0.   0.   0.   0.   0.   0.   0.   0.\n",
      "   0.   0.   0.   0.   0.   0.   0.   0.   0.   0.   0.   0.   0.   0.\n",
      "   0.   0.   0.   0.  26.   0.   0.   0.   0.   0.   0.]\n"
     ]
    },
    {
     "data": {
      "text/plain": [
       "(0.4, 151.0)"
      ]
     },
     "execution_count": 24,
     "metadata": {},
     "output_type": "execute_result"
    },
    {
     "data": {
      "image/png": "[encoded data removed]",
      "text/plain": [
       "<Figure size 1080x720 with 1 Axes>"
      ]
     },
     "metadata": {
      "needs_background": "light"
     },
     "output_type": "display_data"
    }
   ],
   "source": [
    "afs4 = ts4.allele_frequency_spectrum(polarised=True, span_normalise=False)\n",
    "x=np.arange(len(afs4))\n",
    "print(afs4)\n",
    "plt.rcParams[\"figure.figsize\"] = (15,10)\n",
    "plt.bar(x,afs4)\n",
    "plt.xlim(0.4,len(afs4))"
   ]
  },
  {
   "cell_type": "code",
   "execution_count": null,
   "metadata": {},
   "outputs": [],
   "source": []
  }
 ],
 "metadata": {
  "kernelspec": {
   "display_name": "Python 3",
   "language": "python",
   "name": "python3"
  },
  "language_info": {
   "codemirror_mode": {
    "name": "ipython",
    "version": 3
   },
   "file_extension": ".py",
   "mimetype": "text/x-python",
   "name": "python",
   "nbconvert_exporter": "python",
   "pygments_lexer": "ipython3",
   "version": "3.8.3"
  }
 },
 "nbformat": 4,
 "nbformat_minor": 4
}
